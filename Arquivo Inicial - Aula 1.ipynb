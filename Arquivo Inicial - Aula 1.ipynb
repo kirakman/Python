{
 "cells": [
  {
   "cell_type": "markdown",
   "metadata": {},
   "source": [
    "# Automação de Sistemas e Processos com Python\n",
    "\n",
    "### Desafio:\n",
    "\n",
    "Todos os dias, o nosso sistema atualiza as vendas do dia anterior.\n",
    "O seu trabalho diário, como analista, é enviar um e-mail para a diretoria, assim que começar a trabalhar, com o faturamento e a quantidade de produtos vendidos no dia anterior\n",
    "\n",
    "E-mail da diretoria: seugmail+diretoria@gmail.com<br>\n",
    "Local onde o sistema disponibiliza as vendas do dia anterior: https://drive.google.com/drive/folders/149xknr9JvrlEnhNWO49zPcw0PW5icxga?usp=sharing\n",
    "\n",
    "Para resolver isso, vamos usar o pyautogui, uma biblioteca de automação de comandos do mouse e do teclado"
   ]
  },
  {
   "cell_type": "code",
   "execution_count": 11,
   "metadata": {
    "scrolled": true
   },
   "outputs": [
    {
     "name": "stdout",
     "output_type": "stream",
     "text": [
      "Requirement already satisfied: pyautogui in e:\\jupyter\\instalado\\lib\\site-packages (0.9.53)\n",
      "Requirement already satisfied: pygetwindow>=0.0.5 in e:\\jupyter\\instalado\\lib\\site-packages (from pyautogui) (0.0.9)\n",
      "Requirement already satisfied: pyscreeze>=0.1.21 in e:\\jupyter\\instalado\\lib\\site-packages (from pyautogui) (0.1.28)\n",
      "Requirement already satisfied: mouseinfo in e:\\jupyter\\instalado\\lib\\site-packages (from pyautogui) (0.1.3)\n",
      "Requirement already satisfied: pymsgbox in e:\\jupyter\\instalado\\lib\\site-packages (from pyautogui) (1.0.9)\n",
      "Requirement already satisfied: PyTweening>=1.0.1 in e:\\jupyter\\instalado\\lib\\site-packages (from pyautogui) (1.0.4)\n",
      "Requirement already satisfied: pyrect in e:\\jupyter\\instalado\\lib\\site-packages (from pygetwindow>=0.0.5->pyautogui) (0.1.4)\n",
      "Requirement already satisfied: pyperclip in e:\\jupyter\\instalado\\lib\\site-packages (from mouseinfo->pyautogui) (1.8.2)\n",
      "Requirement already satisfied: pyperclip in e:\\jupyter\\instalado\\lib\\site-packages (1.8.2)\n"
     ]
    }
   ],
   "source": [
    "!pip install pyautogui\n",
    "!pip install pyperclip"
   ]
  },
  {
   "cell_type": "code",
   "execution_count": null,
   "metadata": {},
   "outputs": [],
   "source": [
    "import pyautogui\n",
    "import pyperclip\n",
    "import time\n",
    "\n",
    "# Coisas que podemos escrever em PT/BR\n",
    "# Passo 1 - Entrar no sistema da empresa (drive)\n",
    "\n",
    "pyautogui.PAUSE = 1\n",
    "\n",
    "pyautogui.hotkey(\"ctrl\",\"t\")\n",
    "pyautogui.write(\"https://drive.google.com/drive/folders/149xknr9JvrlEnhNWO49zPcw0PW5icxga\")\n",
    "pyautogui.press(\"enter\")\n",
    "time.sleep(5)\n",
    "\n",
    "# Passo 2 - Navegar no Drive\n",
    "\n",
    "pyautogui.click(x=351, y=287, clicks=2)\n",
    "time.sleep(5)\n",
    "pyautogui.click(x=414, y=286)\n",
    "time.sleep(2)\n",
    "pyautogui.click(x=1159, y=195)\n",
    "time.sleep(2)\n",
    "pyautogui.click(x=971, y=590)\n",
    "time.sleep(7)\n",
    "pyautogui.press(\"enter\")\n",
    "time.sleep(5)\n",
    "\n",
    "\n"
   ]
  },
  {
   "cell_type": "markdown",
   "metadata": {},
   "source": [
    "### Vamos agora ler o arquivo baixado para pegar os indicadores\n",
    "\n",
    "- Faturamento\n",
    "- Quantidade de Produtos"
   ]
  },
  {
   "cell_type": "code",
   "execution_count": null,
   "metadata": {},
   "outputs": [],
   "source": [
    "# Passo 4 - Calcular indicadores\n",
    "import pandas as pd\n",
    "\n",
    "tabela = pd.read_excel(r\"E:\\Jupyter\\Vendas - Dez.xlsx\")\n",
    "display(tabela)\n",
    "\n",
    "faturamento = tabela [\"Valor Final\"].sum()\n",
    "quantidade = tabela [\"Quantidade\"].sum()\n"
   ]
  },
  {
   "cell_type": "markdown",
   "metadata": {},
   "source": [
    "### Vamos agora enviar um e-mail pelo gmail"
   ]
  },
  {
   "cell_type": "code",
   "execution_count": null,
   "metadata": {},
   "outputs": [],
   "source": [
    "# Passo 5 - Enviar e-mail para a diretoria com os indicadores\n",
    "\n",
    "pyautogui.hotkey(\"ctrl\",\"t\")\n",
    "pyautogui.write(\"https://mail.google.com/mail/u/0/#inbox\")\n",
    "pyautogui.press(\"enter\")\n",
    "time.sleep(8)\n",
    "\n",
    "pyautogui.click(x=86, y=198)\n",
    "time.sleep(2)\n",
    "pyautogui.write(\"kirak.poncedeleon@hotmail.com\")\n",
    "time.sleep(2)\n",
    "pyautogui.press(\"enter\")\n",
    "time.sleep(2)\n",
    "pyautogui.click(x=870, y=307)\n",
    "time.sleep(1)\n",
    "pyautogui.write(\"Ficha para o chefe - Contabilidade\")\n",
    "time.sleep(4)\n",
    "#Corpo do emai\n",
    "pyautogui.press(\"tab\")\n",
    "pyperclip.copy(f\"\"\"Prezado chefe, \n",
    "Eis aqui a tabela da contabilidade dos itens vendidos do mês de Março/2022. Segue em anexo a planilha via Excel.\n",
    "Faturamento R${faturamento:,.2f}\n",
    "Quantidade de ontem: R${quantidade:,.2f}\n",
    "Agradeço, kirakman.\"\"\")\n",
    "pyautogui.hotkey(\"ctrl\", \"v\")\n",
    "time.sleep(5)\n",
    "pyautogui.hotkey(\"ctrl\", \"enter\" )\n",
    "time.sleep(10)\n",
    "pyautogui.press(\"enter\")\n",
    "time.sleep(5)\n"
   ]
  },
  {
   "cell_type": "markdown",
   "metadata": {},
   "source": [
    "#### Use esse código para descobrir qual a posição de um item que queira clicar\n",
    "\n",
    "- Lembre-se: a posição na sua tela é diferente da posição na minha tela"
   ]
  },
  {
   "cell_type": "code",
   "execution_count": null,
   "metadata": {},
   "outputs": [],
   "source": [
    "time.sleep(5)\n",
    "pyautogui.position()"
   ]
  },
  {
   "cell_type": "code",
   "execution_count": null,
   "metadata": {},
   "outputs": [],
   "source": []
  },
  {
   "cell_type": "code",
   "execution_count": null,
   "metadata": {},
   "outputs": [],
   "source": []
  },
  {
   "cell_type": "code",
   "execution_count": null,
   "metadata": {},
   "outputs": [],
   "source": []
  }
 ],
 "metadata": {
  "kernelspec": {
   "display_name": "Python 3 (ipykernel)",
   "language": "python",
   "name": "python3"
  },
  "language_info": {
   "codemirror_mode": {
    "name": "ipython",
    "version": 3
   },
   "file_extension": ".py",
   "mimetype": "text/x-python",
   "name": "python",
   "nbconvert_exporter": "python",
   "pygments_lexer": "ipython3",
   "version": "3.9.7"
  }
 },
 "nbformat": 4,
 "nbformat_minor": 4
}
